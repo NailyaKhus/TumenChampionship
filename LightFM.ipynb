{
 "cells": [
  {
   "cell_type": "markdown",
   "metadata": {},
   "source": [
    "# Чемпионат Тюменьской области"
   ]
  },
  {
   "cell_type": "markdown",
   "metadata": {},
   "source": [
    "# Задача разработки рекомендательного алгоритма для читателей библиотеки"
   ]
  },
  {
   "cell_type": "code",
   "execution_count": 1,
   "metadata": {},
   "outputs": [],
   "source": [
    "import pandas as pd\n",
    "import numpy as np\n",
    "# from sklearn.model_selection import train_test_split\n",
    "from tqdm.notebook import tqdm\n",
    "from more_itertools import pairwise\n",
    "import re\n",
    "# from sklearn.preprocessing import LabelEncoder, StandardScaler\n",
    "\n",
    "import matplotlib.pyplot as plt\n",
    "import seaborn as sns \n",
    "%matplotlib inline"
   ]
  },
  {
   "cell_type": "code",
   "execution_count": 2,
   "metadata": {},
   "outputs": [],
   "source": [
    "#считывание данных\n",
    "users = pd.read_csv('train/users.csv', sep=';', index_col=None, dtype={'age': str, 'chb': str, 'chit_type': str, 'gender': str})\n",
    "items = pd.read_csv('train/items.csv', sep=';', index_col=None, dtype={'author': str, 'bbk': str, 'izd': str, 'sys_numb': str, 'title': str, 'year_izd': str})\n",
    "train_transactions = pd.read_csv('train/train_transactions_extended.csv', sep=';', index_col=None, dtype={'chb': str, 'date_1': str, 'is_printed': str, 'is_real': str, 'source': str, 'sys_numb': str, 'type': str})\n",
    "submit = pd.read_csv('sample_solution.csv', sep=';', index_col=None, dtype={'chb': str, 'sys_numb': str})"
   ]
  },
  {
   "cell_type": "markdown",
   "metadata": {},
   "source": [
    "Посмотрим, какие пользователи есть в наших таблицах, и для каких пользователей предстоит дать рекомендации."
   ]
  },
  {
   "cell_type": "code",
   "execution_count": 3,
   "metadata": {},
   "outputs": [
    {
     "name": "stdout",
     "output_type": "stream",
     "text": [
      "Кол-во пользователей: 16753\n",
      "Кол-во пользователей в истории: 16753\n"
     ]
    }
   ],
   "source": [
    "print(f\"Кол-во пользователей: {users['chb'].nunique()}\")\n",
    "print(f\"Кол-во пользователей в истории: {train_transactions['chb'].nunique()}\")"
   ]
  },
  {
   "cell_type": "code",
   "execution_count": 4,
   "metadata": {},
   "outputs": [],
   "source": [
    "users_uniq=set(users.chb) # множество уникальных пользователей в таблице users\n",
    "users_in_transaction = set(train_transactions.chb) # множество уникальных пользователей в таблице train_transactions\n",
    "submit_users = set(submit.chb) # множество уникальных пользователей для которых предстоит дать рекомендации"
   ]
  },
  {
   "cell_type": "code",
   "execution_count": 5,
   "metadata": {},
   "outputs": [
    {
     "data": {
      "text/plain": [
       "set()"
      ]
     },
     "execution_count": 5,
     "metadata": {},
     "output_type": "execute_result"
    }
   ],
   "source": [
    "users_uniq - users_in_transaction"
   ]
  },
  {
   "cell_type": "markdown",
   "metadata": {},
   "source": [
    "Пустое множество при вычитании множеств означает, что пользователи в users и пользователи в train_transactions абсолютно одинаковые по составу."
   ]
  },
  {
   "cell_type": "code",
   "execution_count": 6,
   "metadata": {},
   "outputs": [
    {
     "data": {
      "text/plain": [
       "set()"
      ]
     },
     "execution_count": 6,
     "metadata": {},
     "output_type": "execute_result"
    }
   ],
   "source": [
    "submit_users - users_uniq"
   ]
  },
  {
   "cell_type": "markdown",
   "metadata": {},
   "source": [
    "Аналогично с submit и users.                                                                          "
   ]
  },
  {
   "cell_type": "code",
   "execution_count": 7,
   "metadata": {},
   "outputs": [
    {
     "data": {
      "text/html": [
       "<div>\n",
       "<style scoped>\n",
       "    .dataframe tbody tr th:only-of-type {\n",
       "        vertical-align: middle;\n",
       "    }\n",
       "\n",
       "    .dataframe tbody tr th {\n",
       "        vertical-align: top;\n",
       "    }\n",
       "\n",
       "    .dataframe thead th {\n",
       "        text-align: right;\n",
       "    }\n",
       "</style>\n",
       "<table border=\"1\" class=\"dataframe\">\n",
       "  <thead>\n",
       "    <tr style=\"text-align: right;\">\n",
       "      <th></th>\n",
       "      <th>chb</th>\n",
       "      <th>age</th>\n",
       "      <th>gender</th>\n",
       "      <th>chit_type</th>\n",
       "    </tr>\n",
       "  </thead>\n",
       "  <tbody>\n",
       "    <tr>\n",
       "      <th>0</th>\n",
       "      <td>300001020830</td>\n",
       "      <td>21</td>\n",
       "      <td>female</td>\n",
       "      <td>нет данных</td>\n",
       "    </tr>\n",
       "    <tr>\n",
       "      <th>1</th>\n",
       "      <td>300001113642</td>\n",
       "      <td>36</td>\n",
       "      <td>female</td>\n",
       "      <td>нет данных</td>\n",
       "    </tr>\n",
       "  </tbody>\n",
       "</table>\n",
       "</div>"
      ],
      "text/plain": [
       "            chb age  gender   chit_type\n",
       "0  300001020830  21  female  нет данных\n",
       "1  300001113642  36  female  нет данных"
      ]
     },
     "execution_count": 7,
     "metadata": {},
     "output_type": "execute_result"
    }
   ],
   "source": [
    "users.head(2)"
   ]
  },
  {
   "cell_type": "code",
   "execution_count": 8,
   "metadata": {},
   "outputs": [],
   "source": [
    "users.drop(['age', 'gender', 'chit_type'], axis=1, inplace=True)\n",
    "users['chb_cod'] = users.chb.apply(lambda x: x[0])\n",
    "users.chb_cod = users.chb_cod.astype('category')\n",
    "users['chb'] = users.chb.astype('category')"
   ]
  },
  {
   "cell_type": "code",
   "execution_count": 9,
   "metadata": {},
   "outputs": [
    {
     "data": {
      "text/html": [
       "<div>\n",
       "<style scoped>\n",
       "    .dataframe tbody tr th:only-of-type {\n",
       "        vertical-align: middle;\n",
       "    }\n",
       "\n",
       "    .dataframe tbody tr th {\n",
       "        vertical-align: top;\n",
       "    }\n",
       "\n",
       "    .dataframe thead th {\n",
       "        text-align: right;\n",
       "    }\n",
       "</style>\n",
       "<table border=\"1\" class=\"dataframe\">\n",
       "  <thead>\n",
       "    <tr style=\"text-align: right;\">\n",
       "      <th></th>\n",
       "      <th>chb</th>\n",
       "      <th>chb_cod</th>\n",
       "    </tr>\n",
       "  </thead>\n",
       "  <tbody>\n",
       "    <tr>\n",
       "      <th>0</th>\n",
       "      <td>300001020830</td>\n",
       "      <td>3</td>\n",
       "    </tr>\n",
       "    <tr>\n",
       "      <th>1</th>\n",
       "      <td>300001113642</td>\n",
       "      <td>3</td>\n",
       "    </tr>\n",
       "  </tbody>\n",
       "</table>\n",
       "</div>"
      ],
      "text/plain": [
       "            chb chb_cod\n",
       "0  300001020830       3\n",
       "1  300001113642       3"
      ]
     },
     "execution_count": 9,
     "metadata": {},
     "output_type": "execute_result"
    }
   ],
   "source": [
    "users.head(2)"
   ]
  },
  {
   "cell_type": "code",
   "execution_count": 10,
   "metadata": {},
   "outputs": [
    {
     "name": "stdout",
     "output_type": "stream",
     "text": [
      "<class 'pandas.core.frame.DataFrame'>\n",
      "RangeIndex: 16753 entries, 0 to 16752\n",
      "Data columns (total 2 columns):\n",
      " #   Column   Non-Null Count  Dtype   \n",
      "---  ------   --------------  -----   \n",
      " 0   chb      16753 non-null  category\n",
      " 1   chb_cod  16753 non-null  category\n",
      "dtypes: category(2)\n",
      "memory usage: 820.3 KB\n"
     ]
    }
   ],
   "source": [
    "users.info()"
   ]
  },
  {
   "cell_type": "code",
   "execution_count": 11,
   "metadata": {},
   "outputs": [
    {
     "data": {
      "text/html": [
       "<div>\n",
       "<style scoped>\n",
       "    .dataframe tbody tr th:only-of-type {\n",
       "        vertical-align: middle;\n",
       "    }\n",
       "\n",
       "    .dataframe tbody tr th {\n",
       "        vertical-align: top;\n",
       "    }\n",
       "\n",
       "    .dataframe thead th {\n",
       "        text-align: right;\n",
       "    }\n",
       "</style>\n",
       "<table border=\"1\" class=\"dataframe\">\n",
       "  <thead>\n",
       "    <tr style=\"text-align: right;\">\n",
       "      <th></th>\n",
       "      <th>chb</th>\n",
       "      <th>sys_numb</th>\n",
       "      <th>date_1</th>\n",
       "      <th>is_real</th>\n",
       "      <th>type</th>\n",
       "      <th>source</th>\n",
       "      <th>is_printed</th>\n",
       "    </tr>\n",
       "  </thead>\n",
       "  <tbody>\n",
       "    <tr>\n",
       "      <th>0</th>\n",
       "      <td>100000641403</td>\n",
       "      <td>RSL01004206702</td>\n",
       "      <td>2021-02-21</td>\n",
       "      <td>yes</td>\n",
       "      <td>скачивание</td>\n",
       "      <td>dlib.rsl.ru</td>\n",
       "      <td>False</td>\n",
       "    </tr>\n",
       "    <tr>\n",
       "      <th>1</th>\n",
       "      <td>100000641403</td>\n",
       "      <td>RSL01000769304</td>\n",
       "      <td>2021-03-23</td>\n",
       "      <td>yes</td>\n",
       "      <td>скачивание</td>\n",
       "      <td>dlib.rsl.ru</td>\n",
       "      <td>False</td>\n",
       "    </tr>\n",
       "  </tbody>\n",
       "</table>\n",
       "</div>"
      ],
      "text/plain": [
       "            chb        sys_numb      date_1 is_real        type       source  \\\n",
       "0  100000641403  RSL01004206702  2021-02-21     yes  скачивание  dlib.rsl.ru   \n",
       "1  100000641403  RSL01000769304  2021-03-23     yes  скачивание  dlib.rsl.ru   \n",
       "\n",
       "  is_printed  \n",
       "0      False  \n",
       "1      False  "
      ]
     },
     "execution_count": 11,
     "metadata": {},
     "output_type": "execute_result"
    }
   ],
   "source": [
    "train_transactions.head(2)"
   ]
  },
  {
   "cell_type": "code",
   "execution_count": 12,
   "metadata": {},
   "outputs": [],
   "source": [
    "train_transactions['date_1'] = pd.to_datetime(train_transactions['date_1'])\n",
    "# сортируем по дате\n",
    "train_transactions.sort_values(by='date_1', inplace=True)\n",
    "# переписываем индексы\n",
    "train_transactions.index = np.arange(0, len(train_transactions))\n",
    "# удаляем столбцы\n",
    "train_transactions.drop(['is_real', 'type', 'source', 'is_printed'], axis=1, inplace=True)"
   ]
  },
  {
   "cell_type": "code",
   "execution_count": 13,
   "metadata": {},
   "outputs": [
    {
     "data": {
      "text/html": [
       "<div>\n",
       "<style scoped>\n",
       "    .dataframe tbody tr th:only-of-type {\n",
       "        vertical-align: middle;\n",
       "    }\n",
       "\n",
       "    .dataframe tbody tr th {\n",
       "        vertical-align: top;\n",
       "    }\n",
       "\n",
       "    .dataframe thead th {\n",
       "        text-align: right;\n",
       "    }\n",
       "</style>\n",
       "<table border=\"1\" class=\"dataframe\">\n",
       "  <thead>\n",
       "    <tr style=\"text-align: right;\">\n",
       "      <th></th>\n",
       "      <th>chb</th>\n",
       "      <th>sys_numb</th>\n",
       "      <th>date_1</th>\n",
       "    </tr>\n",
       "  </thead>\n",
       "  <tbody>\n",
       "    <tr>\n",
       "      <th>0</th>\n",
       "      <td>100001057738</td>\n",
       "      <td>RSL01009819690</td>\n",
       "      <td>2021-01-01</td>\n",
       "    </tr>\n",
       "    <tr>\n",
       "      <th>1</th>\n",
       "      <td>100001057738</td>\n",
       "      <td>RSL01009824127</td>\n",
       "      <td>2021-01-01</td>\n",
       "    </tr>\n",
       "  </tbody>\n",
       "</table>\n",
       "</div>"
      ],
      "text/plain": [
       "            chb        sys_numb     date_1\n",
       "0  100001057738  RSL01009819690 2021-01-01\n",
       "1  100001057738  RSL01009824127 2021-01-01"
      ]
     },
     "execution_count": 13,
     "metadata": {},
     "output_type": "execute_result"
    }
   ],
   "source": [
    "train_transactions['chb'] = train_transactions.chb.astype('category')\n",
    "train_transactions['sys_numb'] = train_transactions.sys_numb.astype('category')\n",
    "train_transactions.head(2)"
   ]
  },
  {
   "cell_type": "code",
   "execution_count": 14,
   "metadata": {},
   "outputs": [
    {
     "data": {
      "text/html": [
       "<div>\n",
       "<style scoped>\n",
       "    .dataframe tbody tr th:only-of-type {\n",
       "        vertical-align: middle;\n",
       "    }\n",
       "\n",
       "    .dataframe tbody tr th {\n",
       "        vertical-align: top;\n",
       "    }\n",
       "\n",
       "    .dataframe thead th {\n",
       "        text-align: right;\n",
       "    }\n",
       "</style>\n",
       "<table border=\"1\" class=\"dataframe\">\n",
       "  <thead>\n",
       "    <tr style=\"text-align: right;\">\n",
       "      <th></th>\n",
       "      <th>sys_numb</th>\n",
       "      <th>title</th>\n",
       "      <th>author</th>\n",
       "      <th>izd</th>\n",
       "      <th>year_izd</th>\n",
       "      <th>bbk</th>\n",
       "    </tr>\n",
       "  </thead>\n",
       "  <tbody>\n",
       "    <tr>\n",
       "      <th>0</th>\n",
       "      <td>RSL01008600016</td>\n",
       "      <td>Судебное следствие в уголовном процессе России...</td>\n",
       "      <td>Машовец, Асия Океановна</td>\n",
       "      <td>Юрлитинформ</td>\n",
       "      <td>2016</td>\n",
       "      <td>Х629.374,0</td>\n",
       "    </tr>\n",
       "    <tr>\n",
       "      <th>1</th>\n",
       "      <td>RSL01004304880</td>\n",
       "      <td>Уральское казачество и его роль в системе росс...</td>\n",
       "      <td>Дубовиков, Александр Маратович</td>\n",
       "      <td>none</td>\n",
       "      <td>2006</td>\n",
       "      <td>none</td>\n",
       "    </tr>\n",
       "  </tbody>\n",
       "</table>\n",
       "</div>"
      ],
      "text/plain": [
       "         sys_numb                                              title  \\\n",
       "0  RSL01008600016  Судебное следствие в уголовном процессе России...   \n",
       "1  RSL01004304880  Уральское казачество и его роль в системе росс...   \n",
       "\n",
       "                           author          izd year_izd         bbk  \n",
       "0         Машовец, Асия Океановна  Юрлитинформ     2016  Х629.374,0  \n",
       "1  Дубовиков, Александр Маратович         none     2006        none  "
      ]
     },
     "execution_count": 14,
     "metadata": {},
     "output_type": "execute_result"
    }
   ],
   "source": [
    "items.head(2)"
   ]
  },
  {
   "cell_type": "code",
   "execution_count": 15,
   "metadata": {},
   "outputs": [],
   "source": [
    "items['sys_numb'] = items.sys_numb.astype('category')"
   ]
  },
  {
   "cell_type": "code",
   "execution_count": 16,
   "metadata": {},
   "outputs": [],
   "source": [
    "from pymorphy2 import MorphAnalyzer\n",
    "morph = MorphAnalyzer()"
   ]
  },
  {
   "cell_type": "code",
   "execution_count": 17,
   "metadata": {},
   "outputs": [
    {
     "name": "stdout",
     "output_type": "stream",
     "text": [
      "!\"#$%&'()*+,-./:;<=>?@[\\]^_`{|}~\n"
     ]
    },
    {
     "name": "stderr",
     "output_type": "stream",
     "text": [
      "[nltk_data] Downloading package stopwords to\n",
      "[nltk_data]     C:\\Users\\Nailya\\AppData\\Roaming\\nltk_data...\n",
      "[nltk_data]   Package stopwords is already up-to-date!\n",
      "[nltk_data] Downloading package punkt to\n",
      "[nltk_data]     C:\\Users\\Nailya\\AppData\\Roaming\\nltk_data...\n",
      "[nltk_data]   Package punkt is already up-to-date!\n"
     ]
    }
   ],
   "source": [
    "import string\n",
    "from nltk import word_tokenize\n",
    "import nltk\n",
    "from nltk.corpus import stopwords\n",
    "nltk.download('stopwords')\n",
    "nltk.download('punkt')\n",
    "\n",
    "print(string.punctuation)"
   ]
  },
  {
   "cell_type": "code",
   "execution_count": 18,
   "metadata": {},
   "outputs": [],
   "source": [
    "spec_chars = string.punctuation + '«»—…’‘”“©'\n",
    "# print(spec_chars)\n",
    "\n",
    "# Зададим функцию для удаления спец символов\n",
    "\n",
    "\n",
    "def remove_chars(text, chars):\n",
    "    return \"\".join([ch for ch in text if ch not in chars])\n",
    "\n",
    "# stemmer = Mystem()\n",
    "# Функция для обработки текста\n",
    "\n",
    "def text_tokenizer(text):\n",
    "\n",
    "    text = text.lower()\n",
    "    \n",
    "    # Удалим \\n и \\t в тексте\n",
    "    text = text.replace('\\n', ' ').replace('\\t', ' ')\n",
    "    \n",
    "    # Удалим непечатные спецсимволы\n",
    "    text = [w for w in text if w.isprintable()]\n",
    "    \n",
    "    # Удалим все спец символы\n",
    "    text = remove_chars(text, spec_chars)\n",
    "\n",
    "    # Удалим все цифры\n",
    "    text = remove_chars(text, string.digits)\n",
    "\n",
    "    # Токенизируем текст\n",
    "    tokens = word_tokenize(text)\n",
    "    \n",
    "    # Удаляем слова длиной меньше 3 символов\n",
    "    tokens = [w for w in tokens if len(w)>2] \n",
    "\n",
    "    # Удаляем стоп-слова\n",
    "    filtered_token = [w for w in tokens if not w in stopwords_list]\n",
    "\n",
    "    # лемматизируем\n",
    "    for token in filtered_token:\n",
    "        token = morph.normal_forms(token)[0]\n",
    "#         token = stemmer.lemmatize(token)\n",
    "\n",
    "    return filtered_token"
   ]
  },
  {
   "cell_type": "code",
   "execution_count": 19,
   "metadata": {},
   "outputs": [],
   "source": [
    "stopwords_list = stopwords.words(\"russian\")\n",
    "# Дополним список слов-на-выброс\n",
    "list_to_drop = ['отсутствует']\n",
    "\n",
    "stopwords_list.extend(list_to_drop)\n",
    "items['title'] = items['title'].apply(lambda x: text_tokenizer(x))\n",
    "items['title'] = items['title'].apply(lambda x: ' '.join(x))"
   ]
  },
  {
   "cell_type": "code",
   "execution_count": 20,
   "metadata": {},
   "outputs": [],
   "source": [
    "def year_detection(row):\n",
    "    year_='0'\n",
    "    if type(row)!=float:\n",
    "        for i in row:\n",
    "            if i[0]=='1' or (i[0]=='2' and i[1]=='0'):\n",
    "                year_=i\n",
    "            else:\n",
    "                continue\n",
    "    return year_"
   ]
  },
  {
   "cell_type": "code",
   "execution_count": 21,
   "metadata": {},
   "outputs": [],
   "source": [
    "items['year_izd'] = items.year_izd.str.findall(r'\\d\\d\\d\\d')\n",
    "items['year_izd'] = items.year_izd.apply(lambda x: year_detection(x))\n",
    "items['year_izd'] = items.year_izd.astype('int')"
   ]
  },
  {
   "cell_type": "code",
   "execution_count": 22,
   "metadata": {},
   "outputs": [],
   "source": [
    "def bbk_detection(item):\n",
    "    cod = 0\n",
    "    if type(item)!=float:\n",
    "        if item[0].isupper():\n",
    "            cod=item[0]\n",
    "    return str(cod)"
   ]
  },
  {
   "cell_type": "code",
   "execution_count": 23,
   "metadata": {},
   "outputs": [],
   "source": [
    "items.loc[items[items.bbk=='none'].index.values, 'bbk'] = 'отсутствует'\n",
    "items['bbk'] = items.bbk.apply(lambda x: bbk_detection(x))"
   ]
  },
  {
   "cell_type": "code",
   "execution_count": 24,
   "metadata": {},
   "outputs": [
    {
     "data": {
      "text/html": [
       "<div>\n",
       "<style scoped>\n",
       "    .dataframe tbody tr th:only-of-type {\n",
       "        vertical-align: middle;\n",
       "    }\n",
       "\n",
       "    .dataframe tbody tr th {\n",
       "        vertical-align: top;\n",
       "    }\n",
       "\n",
       "    .dataframe thead th {\n",
       "        text-align: right;\n",
       "    }\n",
       "</style>\n",
       "<table border=\"1\" class=\"dataframe\">\n",
       "  <thead>\n",
       "    <tr style=\"text-align: right;\">\n",
       "      <th></th>\n",
       "      <th>sys_numb</th>\n",
       "      <th>title</th>\n",
       "      <th>author</th>\n",
       "      <th>izd</th>\n",
       "      <th>year_izd</th>\n",
       "      <th>bbk</th>\n",
       "    </tr>\n",
       "  </thead>\n",
       "  <tbody>\n",
       "    <tr>\n",
       "      <th>85934</th>\n",
       "      <td>RSL01008814686</td>\n",
       "      <td>вожди германской промышленности крупп стиннес ...</td>\n",
       "      <td>Пиннер, Феликс</td>\n",
       "      <td>Время</td>\n",
       "      <td>1925</td>\n",
       "      <td>0</td>\n",
       "    </tr>\n",
       "    <tr>\n",
       "      <th>148864</th>\n",
       "      <td>RSL01009580087</td>\n",
       "      <td>оценка влияния международной трудовой миграции...</td>\n",
       "      <td>Алфёров, Александр Александрович</td>\n",
       "      <td>none</td>\n",
       "      <td>2017</td>\n",
       "      <td>У</td>\n",
       "    </tr>\n",
       "    <tr>\n",
       "      <th>7579</th>\n",
       "      <td>RSL01008547881</td>\n",
       "      <td>месса музыке века проблеме неоканона диссертац...</td>\n",
       "      <td>Кальченко, Елена Викторовна</td>\n",
       "      <td>none</td>\n",
       "      <td>2016</td>\n",
       "      <td>0</td>\n",
       "    </tr>\n",
       "  </tbody>\n",
       "</table>\n",
       "</div>"
      ],
      "text/plain": [
       "              sys_numb                                              title  \\\n",
       "85934   RSL01008814686  вожди германской промышленности крупп стиннес ...   \n",
       "148864  RSL01009580087  оценка влияния международной трудовой миграции...   \n",
       "7579    RSL01008547881  месса музыке века проблеме неоканона диссертац...   \n",
       "\n",
       "                                  author    izd  year_izd bbk  \n",
       "85934                     Пиннер, Феликс  Время      1925   0  \n",
       "148864  Алфёров, Александр Александрович   none      2017   У  \n",
       "7579         Кальченко, Елена Викторовна   none      2016   0  "
      ]
     },
     "execution_count": 24,
     "metadata": {},
     "output_type": "execute_result"
    }
   ],
   "source": [
    "items.sample(3)"
   ]
  },
  {
   "cell_type": "code",
   "execution_count": 25,
   "metadata": {},
   "outputs": [],
   "source": [
    "item_titles = pd.Series(items['title'].values, index=items['sys_numb']).to_dict()"
   ]
  },
  {
   "cell_type": "code",
   "execution_count": 26,
   "metadata": {},
   "outputs": [],
   "source": [
    "def compute_metrics(df_true, df_pred, top_N):\n",
    "    result = {}\n",
    "    test_recs = df_true.set_index(['chb', 'sys_numb']).join(df_pred.set_index(['chb', 'sys_numb']))\n",
    "    test_recs = test_recs.sort_values(by=['chb', 'rank'])\n",
    "\n",
    "    test_recs['users_item_count'] = test_recs.groupby(level='chb')['rank'].transform(np.size)\n",
    "    test_recs['reciprocal_rank'] = (1 / test_recs['rank']).fillna(0)\n",
    "    test_recs['cumulative_rank'] = test_recs.groupby(level='chb').cumcount() + 1\n",
    "    test_recs['cumulative_rank'] = test_recs['cumulative_rank'] / test_recs['rank']\n",
    "    \n",
    "    users_count = test_recs.index.get_level_values('chb').nunique()\n",
    "    for k in range(1, top_N + 1):\n",
    "        hit_k = f'hit@{k}'\n",
    "        test_recs[hit_k] = test_recs['rank'] <= k\n",
    "        result[f'Precision@{k}'] = (test_recs[hit_k] / k).sum() / users_count\n",
    "        result[f'Recall@{k}'] = (test_recs[hit_k] / test_recs['users_item_count']).sum() / users_count\n",
    "        \n",
    "    result[f'MAP@{top_N}'] = (test_recs[\"cumulative_rank\"] / test_recs[\"users_item_count\"]).sum() / users_count\n",
    "    result['MRR'] = test_recs.groupby(level='chb')['reciprocal_rank'].max().mean()\n",
    "    if (result[f'Precision@{top_N}'] + result[f'Recall@{top_N}'])!=0:\n",
    "        result['F1'] = 2*result[f'Precision@{top_N}'] * result[f'Recall@{top_N}'] /(result[f'Precision@{top_N}'] + result[f'Recall@{top_N}'])\n",
    "    else:\n",
    "        result['F1'] = 0\n",
    "    return pd.Series(result)"
   ]
  },
  {
   "cell_type": "markdown",
   "metadata": {},
   "source": [
    "# Train & Test"
   ]
  },
  {
   "cell_type": "markdown",
   "metadata": {},
   "source": [
    "Для наших данных выбрем 7 последних дней и будем тестировать на них последовательно (1 test fold - 1 день).\n",
    "\n",
    "Но теперь нам нужно учитывать проблему холодного старта. Это основная проблем классических метод над матрицей взаимодействий. Поэтому напишем свой класс для разбиения исходного датафрейма на train/test"
   ]
  },
  {
   "cell_type": "code",
   "execution_count": 27,
   "metadata": {},
   "outputs": [],
   "source": [
    "class TimeRangeSplit():\n",
    "    \"\"\"\n",
    "        https://pandas.pydata.org/pandas-docs/stable/reference/api/pandas.date_range.html\n",
    "    \"\"\"\n",
    "    def __init__(self, \n",
    "                 start_date, \n",
    "                 end_date=None, \n",
    "                 freq='D', \n",
    "                 periods=None, \n",
    "                 tz=None, \n",
    "                 normalize=False, \n",
    "                 closed=None, \n",
    "                 train_min_date=None,\n",
    "                 filter_cold_users=True, \n",
    "                 filter_cold_items=True, \n",
    "                 filter_already_seen=True):\n",
    "        \n",
    "        self.start_date = start_date\n",
    "        if end_date is None and periods is None:\n",
    "            raise ValueError(\"Either 'end_date' or 'periods' must be non-zero, not both at the same time.\")\n",
    "\n",
    "        self.end_date = end_date\n",
    "        self.freq = freq\n",
    "        self.periods = periods\n",
    "        self.tz = tz\n",
    "        self.normalize = normalize\n",
    "        self.closed = closed\n",
    "        self.train_min_date = pd.to_datetime(train_min_date, errors='raise')\n",
    "        self.filter_cold_users = filter_cold_users\n",
    "        self.filter_cold_items = filter_cold_items\n",
    "        self.filter_already_seen = filter_already_seen\n",
    "\n",
    "        self.date_range = pd.date_range(\n",
    "            start=start_date, \n",
    "            end=end_date, \n",
    "            freq=freq, \n",
    "            periods=periods, \n",
    "            tz=tz, \n",
    "            normalize=normalize, \n",
    "            closed=closed)\n",
    "\n",
    "        self.max_n_splits = max(0, len(self.date_range) - 1)\n",
    "        if self.max_n_splits == 0:\n",
    "            raise ValueError(\"Provided parametrs set an empty date range.\") \n",
    "\n",
    "    def split(self, \n",
    "              df, \n",
    "              user_column='chb', ###\n",
    "              item_column='sys_numb',\n",
    "              datetime_column='date_1', ###\n",
    "              fold_stats=False):\n",
    "        df_datetime = df[datetime_column]\n",
    "        \n",
    "        if self.train_min_date is not None:\n",
    "            train_min_mask = df_datetime >= self.train_min_date\n",
    "        else:\n",
    "            train_min_mask = df_datetime.notnull()\n",
    "\n",
    "        date_range = self.date_range[(self.date_range >= df_datetime.min()) & \n",
    "                                     (self.date_range <= df_datetime.max())]\n",
    "\n",
    "        for start, end in tqdm(pairwise(date_range)):\n",
    "            fold_info = {\n",
    "                'Start date': start,\n",
    "                'End date': end\n",
    "            }\n",
    "            train_mask = train_min_mask & (df_datetime < start)\n",
    "            train_idx = df.index[train_mask]\n",
    "            \n",
    "            if fold_stats:\n",
    "                fold_info['Train'] = len(train_idx)\n",
    "                \n",
    "            test_mask = (df_datetime >= start) & (df_datetime < end)\n",
    "            test_idx = df.index[test_mask]\n",
    "            \n",
    "            if self.filter_cold_users:\n",
    "                new = set(df.loc[test_idx, user_column].unique()) - set(df.loc[train_idx, user_column].unique())\n",
    "                new_idx = df.index[test_mask & df[user_column].isin(new)]\n",
    "                test_idx = np.setdiff1d(test_idx, new_idx)\n",
    "                test_mask = df.index.isin(test_idx)\n",
    "                if fold_stats:\n",
    "                    fold_info['New users'] = len(new)\n",
    "                    fold_info['New users interactions'] = len(new_idx)\n",
    "                    \n",
    "            if self.filter_cold_items:\n",
    "                new = np.setdiff1d(\n",
    "                    df.loc[test_idx, item_column].unique(), \n",
    "                    df.loc[train_idx, item_column].unique())\n",
    "                new_idx = df.index[test_mask & df[item_column].isin(new)]\n",
    "                test_idx = np.setdiff1d(test_idx, new_idx)\n",
    "                test_mask = df.index.isin(test_idx)\n",
    "                if fold_stats:\n",
    "                    fold_info['New items'] = len(new)\n",
    "                    fold_info['New items interactions'] = len(new_idx)\n",
    "                    \n",
    "            if self.filter_already_seen:\n",
    "                user_item = [user_column, item_column]\n",
    "                train_pairs = df.loc[train_idx, user_item].set_index(user_item).index\n",
    "                test_pairs = df.loc[test_idx, user_item].set_index(user_item).index\n",
    "                intersection = train_pairs.intersection(test_pairs)\n",
    "                test_idx = test_idx[~test_pairs.isin(intersection)]\n",
    "                # test_mask = rd.df.index.isin(test_idx)\n",
    "                if fold_stats:\n",
    "                    fold_info['Known interactions'] = len(intersection)\n",
    "                    \n",
    "            if fold_stats:\n",
    "                fold_info['Test'] = len(test_idx)\n",
    "                \n",
    "            yield (train_idx, test_idx, fold_info)\n",
    "\n",
    "    def get_n_splits(self, df, datetime_column='date'):\n",
    "        df_datetime = df[datetime_column]\n",
    "        if self.train_min_date is not None:\n",
    "            df_datetime = df_datetime[df_datetime >= self.train_min_date]\n",
    "\n",
    "        date_range = self.date_range[(self.date_range >= df_datetime.min()) & \n",
    "                                     (self.date_range <= df_datetime.max())]\n",
    "\n",
    "        return max(0, len(date_range) - 1)"
   ]
  },
  {
   "cell_type": "code",
   "execution_count": 28,
   "metadata": {},
   "outputs": [
    {
     "data": {
      "text/plain": [
       "(Timestamp('2022-03-24 00:00:00'), Timestamp('2022-03-31 00:00:00'))"
      ]
     },
     "execution_count": 28,
     "metadata": {},
     "output_type": "execute_result"
    }
   ],
   "source": [
    "last_date = train_transactions['date_1'].max().normalize()\n",
    "folds = 7\n",
    "start_date = last_date - pd.Timedelta(days=folds)\n",
    "start_date, last_date"
   ]
  },
  {
   "cell_type": "code",
   "execution_count": 29,
   "metadata": {},
   "outputs": [
    {
     "data": {
      "text/plain": [
       "(7, 7)"
      ]
     },
     "execution_count": 29,
     "metadata": {},
     "output_type": "execute_result"
    }
   ],
   "source": [
    "cv = TimeRangeSplit(start_date=start_date, periods=folds+1)\n",
    "\n",
    "cv.max_n_splits, cv.get_n_splits(train_transactions, datetime_column='date_1')"
   ]
  },
  {
   "cell_type": "code",
   "execution_count": 30,
   "metadata": {},
   "outputs": [
    {
     "data": {
      "text/plain": [
       "DatetimeIndex(['2022-03-24', '2022-03-25', '2022-03-26', '2022-03-27',\n",
       "               '2022-03-28', '2022-03-29', '2022-03-30', '2022-03-31'],\n",
       "              dtype='datetime64[ns]', freq='D')"
      ]
     },
     "execution_count": 30,
     "metadata": {},
     "output_type": "execute_result"
    }
   ],
   "source": [
    "cv.date_range"
   ]
  },
  {
   "cell_type": "code",
   "execution_count": 31,
   "metadata": {},
   "outputs": [
    {
     "data": {
      "application/vnd.jupyter.widget-view+json": {
       "model_id": "dee875ce85ef4279b0d4965e74e923fd",
       "version_major": 2,
       "version_minor": 0
      },
      "text/plain": [
       "HBox(children=(HTML(value=''), FloatProgress(value=1.0, bar_style='info', layout=Layout(width='20px'), max=1.0…"
      ]
     },
     "metadata": {},
     "output_type": "display_data"
    },
    {
     "name": "stdout",
     "output_type": "stream",
     "text": [
      "\n"
     ]
    }
   ],
   "source": [
    "folds_with_stats = list(cv.split(\n",
    "    train_transactions, \n",
    "    user_column='chb',\n",
    "    item_column='sys_numb',\n",
    "    datetime_column='date_1',\n",
    "    fold_stats=True\n",
    "))\n",
    "\n",
    "folds_info_with_stats = pd.DataFrame([info for _, _, info in folds_with_stats])"
   ]
  },
  {
   "cell_type": "code",
   "execution_count": 32,
   "metadata": {},
   "outputs": [
    {
     "name": "stderr",
     "output_type": "stream",
     "text": [
      "C:\\Users\\Nailya\\Anaconda3\\lib\\site-packages\\lightfm\\_lightfm_fast.py:10: UserWarning: LightFM was compiled without OpenMP support. Only a single thread will be used.\n",
      "  \"LightFM was compiled without OpenMP support. \"\n"
     ]
    }
   ],
   "source": [
    "from lightfm import LightFM\n",
    "from lightfm.data import Dataset"
   ]
  },
  {
   "cell_type": "code",
   "execution_count": 33,
   "metadata": {},
   "outputs": [],
   "source": [
    "dataset = Dataset()"
   ]
  },
  {
   "cell_type": "code",
   "execution_count": 34,
   "metadata": {},
   "outputs": [],
   "source": [
    "dataset.fit(train_transactions['chb'].unique(), train_transactions['sys_numb'].unique())"
   ]
  },
  {
   "cell_type": "code",
   "execution_count": 35,
   "metadata": {},
   "outputs": [
    {
     "data": {
      "text/plain": [
       "['3', '2', '1', '4']\n",
       "Categories (4, object): ['3', '2', '1', '4']"
      ]
     },
     "execution_count": 35,
     "metadata": {},
     "output_type": "execute_result"
    }
   ],
   "source": [
    "users['chb_cod'] = users['chb_cod'].cat.add_categories('age_unknown')\n",
    "users['chb_cod'] = users['chb_cod'].fillna('age_unknown')\n",
    "users_features = users['chb_cod'].unique()\n",
    "users_features"
   ]
  },
  {
   "cell_type": "code",
   "execution_count": 36,
   "metadata": {},
   "outputs": [],
   "source": [
    "dataset.fit_partial(user_features=users_features)"
   ]
  },
  {
   "cell_type": "code",
   "execution_count": 37,
   "metadata": {},
   "outputs": [
    {
     "data": {
      "text/plain": [
       "211781"
      ]
     },
     "execution_count": 37,
     "metadata": {},
     "output_type": "execute_result"
    }
   ],
   "source": [
    "items.title = items.title.astype('category')\n",
    "items['title'] = items['title'].cat.add_categories('type_unknown')\n",
    "items['title'] = items['title'].fillna('type_unknown')\n",
    "item_title = list(items['title'].str.split(' ').explode().unique())\n",
    "len(item_title)"
   ]
  },
  {
   "cell_type": "code",
   "execution_count": 38,
   "metadata": {},
   "outputs": [
    {
     "data": {
      "text/plain": [
       "29"
      ]
     },
     "execution_count": 38,
     "metadata": {},
     "output_type": "execute_result"
    }
   ],
   "source": [
    "items.bbk = items.bbk.astype('category')\n",
    "item_bbk = list(items['bbk'].unique())\n",
    "len(item_bbk)"
   ]
  },
  {
   "cell_type": "code",
   "execution_count": 39,
   "metadata": {},
   "outputs": [
    {
     "data": {
      "text/plain": [
       "380"
      ]
     },
     "execution_count": 39,
     "metadata": {},
     "output_type": "execute_result"
    }
   ],
   "source": [
    "items.year_izd = items.year_izd.astype('category')\n",
    "item_year_izd = list(items['year_izd'].unique())\n",
    "len(item_year_izd)"
   ]
  },
  {
   "cell_type": "code",
   "execution_count": 40,
   "metadata": {},
   "outputs": [
    {
     "data": {
      "text/plain": [
       "array(['судебное', 'следствие', 'уголовном', ..., '1671', '1612', '1693'],\n",
       "      dtype='<U112')"
      ]
     },
     "execution_count": 40,
     "metadata": {},
     "output_type": "execute_result"
    }
   ],
   "source": [
    "i_features = np.append(item_title, item_bbk)\n",
    "i_features = np.append(i_features, item_year_izd)\n",
    "i_features"
   ]
  },
  {
   "cell_type": "code",
   "execution_count": 41,
   "metadata": {},
   "outputs": [
    {
     "data": {
      "text/plain": [
       "(212190,)"
      ]
     },
     "execution_count": 41,
     "metadata": {},
     "output_type": "execute_result"
    }
   ],
   "source": [
    "i_features.shape"
   ]
  },
  {
   "cell_type": "code",
   "execution_count": 42,
   "metadata": {},
   "outputs": [],
   "source": [
    "dataset.fit_partial(item_features=i_features)"
   ]
  },
  {
   "cell_type": "code",
   "execution_count": 43,
   "metadata": {},
   "outputs": [
    {
     "data": {
      "text/plain": [
       "(16753, 194666)"
      ]
     },
     "execution_count": 43,
     "metadata": {},
     "output_type": "execute_result"
    }
   ],
   "source": [
    "num_users, num_items = dataset.interactions_shape()\n",
    "num_users, num_items"
   ]
  },
  {
   "cell_type": "code",
   "execution_count": 44,
   "metadata": {},
   "outputs": [
    {
     "name": "stdout",
     "output_type": "stream",
     "text": [
      "users_mapping len -  16753\n",
      "user_features_mapping len -  16757\n",
      "items_mapping len -  194666\n",
      "Users item_features_mapping len -  406855\n"
     ]
    }
   ],
   "source": [
    "lightfm_mapping = dataset.mapping()\n",
    "lightfm_mapping = {\n",
    "    'users_mapping': lightfm_mapping[0],\n",
    "    'user_features_mapping': lightfm_mapping[1],\n",
    "    'items_mapping': lightfm_mapping[2],\n",
    "    'item_features_mapping': lightfm_mapping[3],\n",
    "}\n",
    "print('users_mapping len - ', len(lightfm_mapping['users_mapping']))\n",
    "print('user_features_mapping len - ', len(lightfm_mapping['user_features_mapping']))\n",
    "print('items_mapping len - ', len(lightfm_mapping['items_mapping']))\n",
    "print('Users item_features_mapping len - ', len(lightfm_mapping['item_features_mapping']))"
   ]
  },
  {
   "cell_type": "code",
   "execution_count": 45,
   "metadata": {},
   "outputs": [],
   "source": [
    "lightfm_mapping['users_inv_mapping'] = {v: k for k, v in lightfm_mapping['users_mapping'].items()}\n",
    "lightfm_mapping['items_inv_mapping'] = {v: k for k, v in lightfm_mapping['items_mapping'].items()}"
   ]
  },
  {
   "cell_type": "code",
   "execution_count": 46,
   "metadata": {},
   "outputs": [
    {
     "name": "stdout",
     "output_type": "stream",
     "text": [
      "Num user features: 4 -> 16757\n",
      "num item features: 212189 -> 406855.\n"
     ]
    }
   ],
   "source": [
    "num_user_features = dataset.user_features_shape()\n",
    "num_show_features = dataset.item_features_shape()\n",
    "print('Num user features: {} -> {}\\nnum item features: {} -> {}.'.format(\n",
    "    num_user_features[1] - num_users, num_user_features[1], \n",
    "    num_show_features[1] - num_items, num_show_features[1]))"
   ]
  },
  {
   "cell_type": "code",
   "execution_count": 47,
   "metadata": {},
   "outputs": [],
   "source": [
    "def df_to_tuple_iterator(df):\n",
    "    return zip(*df.values.T)\n",
    "\n",
    "def concat_last_to_list(t):\n",
    "    return (t[0], list(t[1:])[0])\n",
    "\n",
    "def df_to_tuple_list_iterator(df):\n",
    "    return map(concat_last_to_list, zip(*df.values.T))"
   ]
  },
  {
   "cell_type": "code",
   "execution_count": 48,
   "metadata": {},
   "outputs": [
    {
     "data": {
      "text/html": [
       "<div>\n",
       "<style scoped>\n",
       "    .dataframe tbody tr th:only-of-type {\n",
       "        vertical-align: middle;\n",
       "    }\n",
       "\n",
       "    .dataframe tbody tr th {\n",
       "        vertical-align: top;\n",
       "    }\n",
       "\n",
       "    .dataframe thead th {\n",
       "        text-align: right;\n",
       "    }\n",
       "</style>\n",
       "<table border=\"1\" class=\"dataframe\">\n",
       "  <thead>\n",
       "    <tr style=\"text-align: right;\">\n",
       "      <th></th>\n",
       "      <th>chb</th>\n",
       "      <th>chb_cod</th>\n",
       "      <th>feature</th>\n",
       "    </tr>\n",
       "  </thead>\n",
       "  <tbody>\n",
       "    <tr>\n",
       "      <th>0</th>\n",
       "      <td>300001020830</td>\n",
       "      <td>3</td>\n",
       "      <td>[3]</td>\n",
       "    </tr>\n",
       "    <tr>\n",
       "      <th>1</th>\n",
       "      <td>300001113642</td>\n",
       "      <td>3</td>\n",
       "      <td>[3]</td>\n",
       "    </tr>\n",
       "    <tr>\n",
       "      <th>2</th>\n",
       "      <td>300001148466</td>\n",
       "      <td>3</td>\n",
       "      <td>[3]</td>\n",
       "    </tr>\n",
       "    <tr>\n",
       "      <th>3</th>\n",
       "      <td>300001117011</td>\n",
       "      <td>3</td>\n",
       "      <td>[3]</td>\n",
       "    </tr>\n",
       "    <tr>\n",
       "      <th>4</th>\n",
       "      <td>200001038094</td>\n",
       "      <td>2</td>\n",
       "      <td>[2]</td>\n",
       "    </tr>\n",
       "    <tr>\n",
       "      <th>...</th>\n",
       "      <td>...</td>\n",
       "      <td>...</td>\n",
       "      <td>...</td>\n",
       "    </tr>\n",
       "    <tr>\n",
       "      <th>16748</th>\n",
       "      <td>300001154270</td>\n",
       "      <td>3</td>\n",
       "      <td>[3]</td>\n",
       "    </tr>\n",
       "    <tr>\n",
       "      <th>16749</th>\n",
       "      <td>200000851690</td>\n",
       "      <td>2</td>\n",
       "      <td>[2]</td>\n",
       "    </tr>\n",
       "    <tr>\n",
       "      <th>16750</th>\n",
       "      <td>200001154993</td>\n",
       "      <td>2</td>\n",
       "      <td>[2]</td>\n",
       "    </tr>\n",
       "    <tr>\n",
       "      <th>16751</th>\n",
       "      <td>200001155169</td>\n",
       "      <td>2</td>\n",
       "      <td>[2]</td>\n",
       "    </tr>\n",
       "    <tr>\n",
       "      <th>16752</th>\n",
       "      <td>300001155049</td>\n",
       "      <td>3</td>\n",
       "      <td>[3]</td>\n",
       "    </tr>\n",
       "  </tbody>\n",
       "</table>\n",
       "<p>16753 rows × 3 columns</p>\n",
       "</div>"
      ],
      "text/plain": [
       "                chb chb_cod feature\n",
       "0      300001020830       3     [3]\n",
       "1      300001113642       3     [3]\n",
       "2      300001148466       3     [3]\n",
       "3      300001117011       3     [3]\n",
       "4      200001038094       2     [2]\n",
       "...             ...     ...     ...\n",
       "16748  300001154270       3     [3]\n",
       "16749  200000851690       2     [2]\n",
       "16750  200001154993       2     [2]\n",
       "16751  200001155169       2     [2]\n",
       "16752  300001155049       3     [3]\n",
       "\n",
       "[16753 rows x 3 columns]"
      ]
     },
     "execution_count": 48,
     "metadata": {},
     "output_type": "execute_result"
    }
   ],
   "source": [
    "chb_cod_list = users['chb_cod'].values\n",
    "new = [[i] for i in chb_cod_list]\n",
    "users['feature'] = new\n",
    "users"
   ]
  },
  {
   "cell_type": "code",
   "execution_count": 49,
   "metadata": {},
   "outputs": [
    {
     "data": {
      "text/plain": [
       "<16753x16757 sparse matrix of type '<class 'numpy.float32'>'\n",
       "\twith 33506 stored elements in Compressed Sparse Row format>"
      ]
     },
     "execution_count": 49,
     "metadata": {},
     "output_type": "execute_result"
    }
   ],
   "source": [
    "known_users_filter = users['chb'].isin(train_transactions['chb'].unique())\n",
    "train_user_features = dataset.build_user_features(\n",
    "    df_to_tuple_list_iterator(\n",
    "        users.loc[known_users_filter, ['chb', 'feature']]\n",
    "    )\n",
    ")\n",
    "train_user_features"
   ]
  },
  {
   "cell_type": "code",
   "execution_count": 50,
   "metadata": {},
   "outputs": [
    {
     "data": {
      "text/html": [
       "<div>\n",
       "<style scoped>\n",
       "    .dataframe tbody tr th:only-of-type {\n",
       "        vertical-align: middle;\n",
       "    }\n",
       "\n",
       "    .dataframe tbody tr th {\n",
       "        vertical-align: top;\n",
       "    }\n",
       "\n",
       "    .dataframe thead th {\n",
       "        text-align: right;\n",
       "    }\n",
       "</style>\n",
       "<table border=\"1\" class=\"dataframe\">\n",
       "  <thead>\n",
       "    <tr style=\"text-align: right;\">\n",
       "      <th></th>\n",
       "      <th>sys_numb</th>\n",
       "      <th>title</th>\n",
       "      <th>author</th>\n",
       "      <th>izd</th>\n",
       "      <th>year_izd</th>\n",
       "      <th>bbk</th>\n",
       "      <th>features</th>\n",
       "    </tr>\n",
       "  </thead>\n",
       "  <tbody>\n",
       "    <tr>\n",
       "      <th>0</th>\n",
       "      <td>RSL01008600016</td>\n",
       "      <td>судебное следствие уголовном процессе россии м...</td>\n",
       "      <td>Машовец, Асия Океановна</td>\n",
       "      <td>Юрлитинформ</td>\n",
       "      <td>2016</td>\n",
       "      <td>Х</td>\n",
       "      <td>[судебное, следствие, уголовном, процессе, рос...</td>\n",
       "    </tr>\n",
       "    <tr>\n",
       "      <th>1</th>\n",
       "      <td>RSL01004304880</td>\n",
       "      <td>уральское казачество роль системе российской г...</td>\n",
       "      <td>Дубовиков, Александр Маратович</td>\n",
       "      <td>none</td>\n",
       "      <td>2006</td>\n",
       "      <td>0</td>\n",
       "      <td>[уральское, казачество, роль, системе, российс...</td>\n",
       "    </tr>\n",
       "  </tbody>\n",
       "</table>\n",
       "</div>"
      ],
      "text/plain": [
       "         sys_numb                                              title  \\\n",
       "0  RSL01008600016  судебное следствие уголовном процессе россии м...   \n",
       "1  RSL01004304880  уральское казачество роль системе российской г...   \n",
       "\n",
       "                           author          izd year_izd bbk  \\\n",
       "0         Машовец, Асия Океановна  Юрлитинформ     2016   Х   \n",
       "1  Дубовиков, Александр Маратович         none     2006   0   \n",
       "\n",
       "                                            features  \n",
       "0  [судебное, следствие, уголовном, процессе, рос...  \n",
       "1  [уральское, казачество, роль, системе, российс...  "
      ]
     },
     "execution_count": 50,
     "metadata": {},
     "output_type": "execute_result"
    }
   ],
   "source": [
    "items['features'] = items['title'].astype(str).apply(lambda x: x.split(' '))\n",
    "items['bbk'] = items['bbk'].astype(str)\n",
    "items['features'] = items[['features','bbk']].apply(lambda x: list(x), axis=1)\n",
    "items['year_izd'] = items['year_izd'].astype(str)\n",
    "items['features'] = items[['features','year_izd']].apply(lambda x: list(x), axis=1)\n",
    "items['features'] = items['features'].astype(str).apply(lambda x: x.replace('[','').replace(']',''))\n",
    "items['features'] = items['features'].apply(lambda x: x.replace(\"'', \",'').replace(\"'\",'').replace(\"'\",''))\n",
    "# items['features'] = items['features'].astype('category')\n",
    "items['features'] = items['features'].str.split(', ')\n",
    "items.head(2)"
   ]
  },
  {
   "cell_type": "code",
   "execution_count": 51,
   "metadata": {},
   "outputs": [
    {
     "data": {
      "text/plain": [
       "<194666x406855 sparse matrix of type '<class 'numpy.float32'>'\n",
       "\twith 2204144 stored elements in Compressed Sparse Row format>"
      ]
     },
     "execution_count": 51,
     "metadata": {},
     "output_type": "execute_result"
    }
   ],
   "source": [
    "known_items_filter = items['sys_numb'].isin(train_transactions['sys_numb'].unique())\n",
    "train_items_features = dataset.build_item_features(\n",
    "    df_to_tuple_list_iterator(\n",
    "        items.loc[known_items_filter, ['sys_numb', 'features']]\n",
    "    )\n",
    ")\n",
    "train_items_features"
   ]
  },
  {
   "cell_type": "code",
   "execution_count": 52,
   "metadata": {},
   "outputs": [],
   "source": [
    "lfm_model = LightFM(no_components=64, learning_rate=0.05, loss='warp', max_sampled=5, random_state=23)"
   ]
  },
  {
   "cell_type": "code",
   "execution_count": 53,
   "metadata": {},
   "outputs": [
    {
     "data": {
      "text/plain": [
       "194666"
      ]
     },
     "execution_count": 53,
     "metadata": {},
     "output_type": "execute_result"
    }
   ],
   "source": [
    "top_N = 20\n",
    "all_cols = list(lightfm_mapping['items_mapping'].values())\n",
    "len(all_cols)"
   ]
  },
  {
   "cell_type": "code",
   "execution_count": 54,
   "metadata": {},
   "outputs": [],
   "source": [
    "def generate_lightfm_recs_mapper(model, item_ids, known_items, user_features, item_features, N, user_mapping, item_inv_mapping, num_threads=4):\n",
    "    def _recs_mapper(user):\n",
    "        user_id = user_mapping[user]\n",
    "        recs = model.predict(user_id, item_ids, user_features=user_features,\n",
    "                             item_features=item_features, num_threads=num_threads)\n",
    "\n",
    "        additional_N = len(known_items[user_id]\n",
    "                           ) if user_id in known_items else 0\n",
    "        total_N = N + additional_N\n",
    "        top_cols = np.argpartition(recs, -np.arange(total_N))[-total_N:][::-1]\n",
    "\n",
    "        final_recs = [item_inv_mapping[item] for item in top_cols]\n",
    "        \n",
    "        if additional_N > 0:\n",
    "            filter_items = known_items[user_id]\n",
    "            final_recs = [item for item in final_recs if item not in filter_items]\n",
    "        return str(final_recs[:N])\n",
    "    return _recs_mapper"
   ]
  },
  {
   "cell_type": "code",
   "execution_count": 55,
   "metadata": {},
   "outputs": [],
   "source": [
    "metrics_in_time = pd.DataFrame(columns=['test_date', 'precision', 'recall', 'mapN', 'mrr', 'F1']) #"
   ]
  },
  {
   "cell_type": "code",
   "execution_count": 56,
   "metadata": {},
   "outputs": [
    {
     "name": "stdout",
     "output_type": "stream",
     "text": [
      "test range - from 2022-03-24 00:00:00 to 2022-03-25 00:00:00\n",
      "train shape - (253578, 3), test shape - (127, 3)\n"
     ]
    },
    {
     "data": {
      "application/vnd.jupyter.widget-view+json": {
       "model_id": "436c133ec1d44d549f7da34e8c870dcb",
       "version_major": 2,
       "version_minor": 0
      },
      "text/plain": [
       "HBox(children=(HTML(value=''), FloatProgress(value=0.0, max=15.0), HTML(value='')))"
      ]
     },
     "metadata": {},
     "output_type": "display_data"
    },
    {
     "name": "stdout",
     "output_type": "stream",
     "text": [
      "\n",
      "test range - from 2022-03-25 00:00:00 to 2022-03-26 00:00:00\n",
      "train shape - (254401, 3), test shape - (134, 3)\n"
     ]
    },
    {
     "data": {
      "application/vnd.jupyter.widget-view+json": {
       "model_id": "10645d80715b48f6960ea84f26086c9f",
       "version_major": 2,
       "version_minor": 0
      },
      "text/plain": [
       "HBox(children=(HTML(value=''), FloatProgress(value=0.0, max=15.0), HTML(value='')))"
      ]
     },
     "metadata": {},
     "output_type": "display_data"
    },
    {
     "name": "stdout",
     "output_type": "stream",
     "text": [
      "\n",
      "test range - from 2022-03-26 00:00:00 to 2022-03-27 00:00:00\n",
      "train shape - (255264, 3), test shape - (144, 3)\n"
     ]
    },
    {
     "data": {
      "application/vnd.jupyter.widget-view+json": {
       "model_id": "4bc77048cf15425f938fc21cf9bd5421",
       "version_major": 2,
       "version_minor": 0
      },
      "text/plain": [
       "HBox(children=(HTML(value=''), FloatProgress(value=0.0, max=15.0), HTML(value='')))"
      ]
     },
     "metadata": {},
     "output_type": "display_data"
    },
    {
     "name": "stdout",
     "output_type": "stream",
     "text": [
      "\n",
      "test range - from 2022-03-27 00:00:00 to 2022-03-28 00:00:00\n",
      "train shape - (256298, 3), test shape - (31, 3)\n"
     ]
    },
    {
     "data": {
      "application/vnd.jupyter.widget-view+json": {
       "model_id": "5654a9dc06854719a56a9f97450413a9",
       "version_major": 2,
       "version_minor": 0
      },
      "text/plain": [
       "HBox(children=(HTML(value=''), FloatProgress(value=0.0, max=15.0), HTML(value='')))"
      ]
     },
     "metadata": {},
     "output_type": "display_data"
    },
    {
     "name": "stdout",
     "output_type": "stream",
     "text": [
      "\n",
      "test range - from 2022-03-28 00:00:00 to 2022-03-29 00:00:00\n",
      "train shape - (256486, 3), test shape - (59, 3)\n"
     ]
    },
    {
     "data": {
      "application/vnd.jupyter.widget-view+json": {
       "model_id": "0bf7a8ee64a5461a98ffb53de57ac82e",
       "version_major": 2,
       "version_minor": 0
      },
      "text/plain": [
       "HBox(children=(HTML(value=''), FloatProgress(value=0.0, max=15.0), HTML(value='')))"
      ]
     },
     "metadata": {},
     "output_type": "display_data"
    },
    {
     "name": "stdout",
     "output_type": "stream",
     "text": [
      "\n",
      "test range - from 2022-03-29 00:00:00 to 2022-03-30 00:00:00\n",
      "train shape - (256803, 3), test shape - (146, 3)\n"
     ]
    },
    {
     "data": {
      "application/vnd.jupyter.widget-view+json": {
       "model_id": "824e8c141592454696794bfb73a65bfc",
       "version_major": 2,
       "version_minor": 0
      },
      "text/plain": [
       "HBox(children=(HTML(value=''), FloatProgress(value=0.0, max=15.0), HTML(value='')))"
      ]
     },
     "metadata": {},
     "output_type": "display_data"
    },
    {
     "name": "stdout",
     "output_type": "stream",
     "text": [
      "\n",
      "test range - from 2022-03-30 00:00:00 to 2022-03-31 00:00:00\n",
      "train shape - (257737, 3), test shape - (170, 3)\n"
     ]
    },
    {
     "data": {
      "application/vnd.jupyter.widget-view+json": {
       "model_id": "e3619eb38b884b9aaabc52be4c6f2281",
       "version_major": 2,
       "version_minor": 0
      },
      "text/plain": [
       "HBox(children=(HTML(value=''), FloatProgress(value=0.0, max=15.0), HTML(value='')))"
      ]
     },
     "metadata": {},
     "output_type": "display_data"
    },
    {
     "name": "stdout",
     "output_type": "stream",
     "text": [
      "\n"
     ]
    }
   ],
   "source": [
    "validation_results = pd.DataFrame()\n",
    "\n",
    "for train_idx, test_idx, info in folds_with_stats:\n",
    "    print(f\"test range - from {info['Start date']} to {info['End date']}\")\n",
    "    train = train_transactions.loc[train_idx]\n",
    "    test = train_transactions.loc[test_idx]\n",
    "    print(f'train shape - {train.shape}, test shape - {test.shape}')\n",
    "    \n",
    "    train_mat, train_mat_weights = dataset.build_interactions(df_to_tuple_iterator(train[['chb', 'sys_numb']]))\n",
    "    \n",
    "    num_epochs = 15\n",
    "    for _ in tqdm(range(num_epochs), total=num_epochs):\n",
    "        \n",
    "        lfm_model.fit_partial(\n",
    "            train_mat, \n",
    "            user_features=train_user_features,\n",
    "            item_features=train_items_features,\n",
    "            num_threads=4\n",
    "        )\n",
    "    \n",
    "    recs_user = pd.DataFrame({\n",
    "        'chb': test['chb'].unique()\n",
    "    })\n",
    "    known_items = train.groupby('chb')['sys_numb'].apply(list).to_dict()\n",
    "        \n",
    "    mapper = generate_lightfm_recs_mapper(\n",
    "        lfm_model, \n",
    "        item_ids=all_cols, \n",
    "        known_items=known_items,\n",
    "        N=top_N,\n",
    "        user_features=train_user_features, \n",
    "        item_features=train_items_features, \n",
    "        user_mapping=lightfm_mapping['users_mapping'],\n",
    "        item_inv_mapping=lightfm_mapping['items_inv_mapping'],\n",
    "        num_threads=4\n",
    "    )\n",
    "    \n",
    "    recs_user['sys_numb'] = recs_user['chb'].map(mapper)\n",
    "    recs_user['sys_numb']=recs_user['sys_numb'].astype('str').apply(lambda x: x.replace('[','').replace(']','').replace(\"'\",'').replace(\"'\",'').split(', '))\n",
    "    # recs_user['sys_numb'] = recs_user.sys_numb.apply(lambda x: x.replace(\"'\", '').replace(\"'\", ''))\n",
    "    recs_user = recs_user.explode('sys_numb')\n",
    "    #recs_user.sys_numb=pd.to_numeric(recs_user.sys_numb, downcast=\"integer\")\n",
    "    recs_user['rank'] = recs_user.groupby('chb').cumcount() + 1\n",
    "    metrics = compute_metrics(test, recs_user, top_N)\n",
    "#     display(metrics)\n",
    "    metric_dict = {\n",
    "        'test_date': info['Start date'],\n",
    "        'precision': metrics[f'Precision@{top_N}'],\n",
    "        'recall': metrics[f'Recall@{top_N}'],\n",
    "        'mapN': metrics[f'MAP@{top_N}'],\n",
    "        'mrr': metrics['MRR'],\n",
    "        'F1': metrics['F1']\n",
    "        }\n",
    "\n",
    "    metric_temp = pd.DataFrame(metric_dict, index=[1])\n",
    "\n",
    "    metrics_in_time = metrics_in_time.append(metric_temp, ignore_index=True) "
   ]
  },
  {
   "cell_type": "code",
   "execution_count": 57,
   "metadata": {},
   "outputs": [
    {
     "data": {
      "text/html": [
       "<div>\n",
       "<style scoped>\n",
       "    .dataframe tbody tr th:only-of-type {\n",
       "        vertical-align: middle;\n",
       "    }\n",
       "\n",
       "    .dataframe tbody tr th {\n",
       "        vertical-align: top;\n",
       "    }\n",
       "\n",
       "    .dataframe thead th {\n",
       "        text-align: right;\n",
       "    }\n",
       "</style>\n",
       "<table border=\"1\" class=\"dataframe\">\n",
       "  <thead>\n",
       "    <tr style=\"text-align: right;\">\n",
       "      <th></th>\n",
       "      <th>test_date</th>\n",
       "      <th>precision</th>\n",
       "      <th>recall</th>\n",
       "      <th>mapN</th>\n",
       "      <th>mrr</th>\n",
       "      <th>F1</th>\n",
       "    </tr>\n",
       "  </thead>\n",
       "  <tbody>\n",
       "    <tr>\n",
       "      <th>0</th>\n",
       "      <td>2022-03-24</td>\n",
       "      <td>0.000000</td>\n",
       "      <td>0.000000</td>\n",
       "      <td>0.000000</td>\n",
       "      <td>0.000000</td>\n",
       "      <td>0.000000</td>\n",
       "    </tr>\n",
       "    <tr>\n",
       "      <th>1</th>\n",
       "      <td>2022-03-25</td>\n",
       "      <td>0.000575</td>\n",
       "      <td>0.011494</td>\n",
       "      <td>0.000575</td>\n",
       "      <td>0.000575</td>\n",
       "      <td>0.001095</td>\n",
       "    </tr>\n",
       "    <tr>\n",
       "      <th>2</th>\n",
       "      <td>2022-03-26</td>\n",
       "      <td>0.000532</td>\n",
       "      <td>0.005319</td>\n",
       "      <td>0.000296</td>\n",
       "      <td>0.000591</td>\n",
       "      <td>0.000967</td>\n",
       "    </tr>\n",
       "    <tr>\n",
       "      <th>3</th>\n",
       "      <td>2022-03-27</td>\n",
       "      <td>0.000000</td>\n",
       "      <td>0.000000</td>\n",
       "      <td>0.000000</td>\n",
       "      <td>0.000000</td>\n",
       "      <td>0.000000</td>\n",
       "    </tr>\n",
       "    <tr>\n",
       "      <th>4</th>\n",
       "      <td>2022-03-28</td>\n",
       "      <td>0.000000</td>\n",
       "      <td>0.000000</td>\n",
       "      <td>0.000000</td>\n",
       "      <td>0.000000</td>\n",
       "      <td>0.000000</td>\n",
       "    </tr>\n",
       "    <tr>\n",
       "      <th>5</th>\n",
       "      <td>2022-03-29</td>\n",
       "      <td>0.000962</td>\n",
       "      <td>0.007212</td>\n",
       "      <td>0.000847</td>\n",
       "      <td>0.002015</td>\n",
       "      <td>0.001697</td>\n",
       "    </tr>\n",
       "    <tr>\n",
       "      <th>6</th>\n",
       "      <td>2022-03-30</td>\n",
       "      <td>0.000962</td>\n",
       "      <td>0.019231</td>\n",
       "      <td>0.010181</td>\n",
       "      <td>0.010181</td>\n",
       "      <td>0.001832</td>\n",
       "    </tr>\n",
       "  </tbody>\n",
       "</table>\n",
       "</div>"
      ],
      "text/plain": [
       "   test_date  precision    recall      mapN       mrr        F1\n",
       "0 2022-03-24   0.000000  0.000000  0.000000  0.000000  0.000000\n",
       "1 2022-03-25   0.000575  0.011494  0.000575  0.000575  0.001095\n",
       "2 2022-03-26   0.000532  0.005319  0.000296  0.000591  0.000967\n",
       "3 2022-03-27   0.000000  0.000000  0.000000  0.000000  0.000000\n",
       "4 2022-03-28   0.000000  0.000000  0.000000  0.000000  0.000000\n",
       "5 2022-03-29   0.000962  0.007212  0.000847  0.002015  0.001697\n",
       "6 2022-03-30   0.000962  0.019231  0.010181  0.010181  0.001832"
      ]
     },
     "execution_count": 57,
     "metadata": {},
     "output_type": "execute_result"
    }
   ],
   "source": [
    "metrics_in_time"
   ]
  },
  {
   "cell_type": "markdown",
   "metadata": {},
   "source": [
    "# Submit prediction"
   ]
  },
  {
   "cell_type": "code",
   "execution_count": 58,
   "metadata": {},
   "outputs": [],
   "source": [
    "predict_recs = pd.DataFrame({\n",
    "        'chb': submit['chb'].unique(), 'sys_numb': '0'\n",
    "    })"
   ]
  },
  {
   "cell_type": "code",
   "execution_count": 59,
   "metadata": {},
   "outputs": [],
   "source": [
    "mapper = generate_lightfm_recs_mapper(\n",
    "    lfm_model, \n",
    "    item_ids=all_cols, \n",
    "    known_items=known_items,\n",
    "    N=top_N,\n",
    "    user_features=train_user_features, \n",
    "    item_features=train_items_features, \n",
    "    user_mapping=lightfm_mapping['users_mapping'],\n",
    "    item_inv_mapping=lightfm_mapping['items_inv_mapping'],\n",
    "    num_threads=4\n",
    ")"
   ]
  },
  {
   "cell_type": "code",
   "execution_count": 60,
   "metadata": {},
   "outputs": [
    {
     "data": {
      "application/vnd.jupyter.widget-view+json": {
       "model_id": "c914d6c1a69f49acbf993c01fd43a7e3",
       "version_major": 2,
       "version_minor": 0
      },
      "text/plain": [
       "HBox(children=(HTML(value=''), FloatProgress(value=0.0, max=16.0), HTML(value='')))"
      ]
     },
     "metadata": {},
     "output_type": "display_data"
    },
    {
     "name": "stdout",
     "output_type": "stream",
     "text": [
      "\n"
     ]
    }
   ],
   "source": [
    "f_num = len(predict_recs)//1000\n",
    "rest = len(predict_recs)%1000+1\n",
    "for rec in tqdm(range(1, f_num+1)):\n",
    "    predict_recs['sys_numb'].loc[(rec-1)*1000:rec*1000] = predict_recs['chb'].loc[(rec-1)*1000:rec*1000].map(mapper)\n",
    "\n",
    "predict_recs['sys_numb'].loc[f_num*1000-1:f_num*1000+rest] = predict_recs['chb'].loc[f_num*1000-1:f_num*1000+rest].map(mapper)                      "
   ]
  },
  {
   "cell_type": "code",
   "execution_count": 61,
   "metadata": {},
   "outputs": [],
   "source": [
    "# predict_recs['sys_numb'] = predict_recs['chb'].map(mapper)\n",
    "predict_recs['sys_numb'] = predict_recs['sys_numb'].astype('str').apply(\n",
    "    lambda x: x.replace('[', '').replace(']', '').replace(\"'\", '').replace(\"'\", '').split(', '))\n",
    "predict_recs = predict_recs.explode('sys_numb')"
   ]
  },
  {
   "cell_type": "code",
   "execution_count": 62,
   "metadata": {},
   "outputs": [
    {
     "name": "stdout",
     "output_type": "stream",
     "text": [
      "<class 'pandas.core.frame.DataFrame'>\n",
      "Int64Index: 335060 entries, 0 to 16752\n",
      "Data columns (total 2 columns):\n",
      " #   Column    Non-Null Count   Dtype \n",
      "---  ------    --------------   ----- \n",
      " 0   chb       335060 non-null  object\n",
      " 1   sys_numb  335060 non-null  object\n",
      "dtypes: object(2)\n",
      "memory usage: 7.7+ MB\n"
     ]
    }
   ],
   "source": [
    "predict_recs.info()"
   ]
  },
  {
   "cell_type": "code",
   "execution_count": 63,
   "metadata": {},
   "outputs": [
    {
     "data": {
      "text/html": [
       "<div>\n",
       "<style scoped>\n",
       "    .dataframe tbody tr th:only-of-type {\n",
       "        vertical-align: middle;\n",
       "    }\n",
       "\n",
       "    .dataframe tbody tr th {\n",
       "        vertical-align: top;\n",
       "    }\n",
       "\n",
       "    .dataframe thead th {\n",
       "        text-align: right;\n",
       "    }\n",
       "</style>\n",
       "<table border=\"1\" class=\"dataframe\">\n",
       "  <thead>\n",
       "    <tr style=\"text-align: right;\">\n",
       "      <th></th>\n",
       "      <th>chb</th>\n",
       "      <th>sys_numb</th>\n",
       "    </tr>\n",
       "  </thead>\n",
       "  <tbody>\n",
       "    <tr>\n",
       "      <th>0</th>\n",
       "      <td>100001051682</td>\n",
       "      <td>RSL07000432334</td>\n",
       "    </tr>\n",
       "    <tr>\n",
       "      <th>0</th>\n",
       "      <td>100001051682</td>\n",
       "      <td>RSL02000006960</td>\n",
       "    </tr>\n",
       "    <tr>\n",
       "      <th>0</th>\n",
       "      <td>100001051682</td>\n",
       "      <td>RSL02000022351</td>\n",
       "    </tr>\n",
       "    <tr>\n",
       "      <th>0</th>\n",
       "      <td>100001051682</td>\n",
       "      <td>RSL07000455845</td>\n",
       "    </tr>\n",
       "    <tr>\n",
       "      <th>0</th>\n",
       "      <td>100001051682</td>\n",
       "      <td>RSL07000386069</td>\n",
       "    </tr>\n",
       "    <tr>\n",
       "      <th>0</th>\n",
       "      <td>100001051682</td>\n",
       "      <td>RSL02000000591</td>\n",
       "    </tr>\n",
       "    <tr>\n",
       "      <th>0</th>\n",
       "      <td>100001051682</td>\n",
       "      <td>RSL01008681216</td>\n",
       "    </tr>\n",
       "    <tr>\n",
       "      <th>0</th>\n",
       "      <td>100001051682</td>\n",
       "      <td>RSL07000375074</td>\n",
       "    </tr>\n",
       "    <tr>\n",
       "      <th>0</th>\n",
       "      <td>100001051682</td>\n",
       "      <td>RSL60000250152</td>\n",
       "    </tr>\n",
       "    <tr>\n",
       "      <th>0</th>\n",
       "      <td>100001051682</td>\n",
       "      <td>RSL02000000529</td>\n",
       "    </tr>\n",
       "    <tr>\n",
       "      <th>0</th>\n",
       "      <td>100001051682</td>\n",
       "      <td>RSL07000386830</td>\n",
       "    </tr>\n",
       "    <tr>\n",
       "      <th>0</th>\n",
       "      <td>100001051682</td>\n",
       "      <td>RSL07000422110</td>\n",
       "    </tr>\n",
       "    <tr>\n",
       "      <th>0</th>\n",
       "      <td>100001051682</td>\n",
       "      <td>RSL07000469276</td>\n",
       "    </tr>\n",
       "    <tr>\n",
       "      <th>0</th>\n",
       "      <td>100001051682</td>\n",
       "      <td>RSL07000354478</td>\n",
       "    </tr>\n",
       "    <tr>\n",
       "      <th>0</th>\n",
       "      <td>100001051682</td>\n",
       "      <td>RSL07000438786</td>\n",
       "    </tr>\n",
       "    <tr>\n",
       "      <th>0</th>\n",
       "      <td>100001051682</td>\n",
       "      <td>RSL07000474933</td>\n",
       "    </tr>\n",
       "    <tr>\n",
       "      <th>0</th>\n",
       "      <td>100001051682</td>\n",
       "      <td>RSL07000441227</td>\n",
       "    </tr>\n",
       "    <tr>\n",
       "      <th>0</th>\n",
       "      <td>100001051682</td>\n",
       "      <td>RSL07000433251</td>\n",
       "    </tr>\n",
       "    <tr>\n",
       "      <th>0</th>\n",
       "      <td>100001051682</td>\n",
       "      <td>RSL02000000569</td>\n",
       "    </tr>\n",
       "    <tr>\n",
       "      <th>0</th>\n",
       "      <td>100001051682</td>\n",
       "      <td>RSL01010806214</td>\n",
       "    </tr>\n",
       "  </tbody>\n",
       "</table>\n",
       "</div>"
      ],
      "text/plain": [
       "            chb        sys_numb\n",
       "0  100001051682  RSL07000432334\n",
       "0  100001051682  RSL02000006960\n",
       "0  100001051682  RSL02000022351\n",
       "0  100001051682  RSL07000455845\n",
       "0  100001051682  RSL07000386069\n",
       "0  100001051682  RSL02000000591\n",
       "0  100001051682  RSL01008681216\n",
       "0  100001051682  RSL07000375074\n",
       "0  100001051682  RSL60000250152\n",
       "0  100001051682  RSL02000000529\n",
       "0  100001051682  RSL07000386830\n",
       "0  100001051682  RSL07000422110\n",
       "0  100001051682  RSL07000469276\n",
       "0  100001051682  RSL07000354478\n",
       "0  100001051682  RSL07000438786\n",
       "0  100001051682  RSL07000474933\n",
       "0  100001051682  RSL07000441227\n",
       "0  100001051682  RSL07000433251\n",
       "0  100001051682  RSL02000000569\n",
       "0  100001051682  RSL01010806214"
      ]
     },
     "execution_count": 63,
     "metadata": {},
     "output_type": "execute_result"
    }
   ],
   "source": [
    "predict_recs.head(20)"
   ]
  },
  {
   "cell_type": "code",
   "execution_count": 64,
   "metadata": {},
   "outputs": [],
   "source": [
    "predict_recs.index = np.arange(len(predict_recs))"
   ]
  },
  {
   "cell_type": "code",
   "execution_count": 65,
   "metadata": {},
   "outputs": [],
   "source": [
    "# Формирование csv файла для отправки на платформу\n",
    "predict_recs.to_csv(\"solution.csv\", index=False, sep=';')"
   ]
  },
  {
   "cell_type": "code",
   "execution_count": null,
   "metadata": {},
   "outputs": [],
   "source": []
  },
  {
   "cell_type": "code",
   "execution_count": null,
   "metadata": {},
   "outputs": [],
   "source": []
  }
 ],
 "metadata": {
  "kernelspec": {
   "display_name": "Python 3",
   "language": "python",
   "name": "python3"
  },
  "language_info": {
   "codemirror_mode": {
    "name": "ipython",
    "version": 3
   },
   "file_extension": ".py",
   "mimetype": "text/x-python",
   "name": "python",
   "nbconvert_exporter": "python",
   "pygments_lexer": "ipython3",
   "version": "3.7.4"
  }
 },
 "nbformat": 4,
 "nbformat_minor": 4
}
